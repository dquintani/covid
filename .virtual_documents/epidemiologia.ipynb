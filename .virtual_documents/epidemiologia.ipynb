import pandas as pd
import numpy as np
import matplotlib.pyplot as plt
import datetime
import matplotlib.dates as mdates
import matplotlib.ticker as mtick
from matplotlib import cm
print("libraries imported!")


# directory is relic to remember
directory = ""
ordenado = ['Bolivia', 'La Paz', 'Cochabamba', 'Santa Cruz', 'Oruro', 'Potosí', 'Chuquisaca', 'Tarija', 'Beni', 'Pando']


# style
plt.rcParams['font.family'] = 'Manjari'
plt.style.use("Solarize_Light2")


atribucion_udape = "Fuente: UDAPE vía Mauricio Foronda (@mauforonda). Datos: Github.com/sociedatos\nVisualización de BoliGráfica (Diego Acevedo Quintanilla)"


atribucion_SEDES_edu = "Fuente: SEDES departamentales vía Gabriel Weisse. Datos: Github.com/sociedatos\nVisualización de BoliGráfica (Diego Acevedo Quintanilla)"


atribucion_udape_sedes = "Fuente: UDAPE y SEDES departamentales. Datos: Github.com/sociedatos\nVisualización de BoliGráfica (Diego Acevedo Quintanilla)"


# habitantes ine proyeccion 2020: https://www.ine.gob.bo/index.php/censos-y-proyecciones-de-poblacion-sociales/
habitantes = pd.read_csv("habitantes.csv", index_col=None)
habitantes = habitantes[ordenado]
habitantes


# fuente1 = "https://github.com/mauforonda/covid19-bolivia-udape/raw/master/confirmados_diarios.csv"
fuente2 = "https://github.com/sociedatos/covid19-bo-casos_por_departamento/raw/master/confirmados_diarios.csv"

casos_diarios = pd.read_csv(fuente2, index_col=0)
casos_diarios.index = pd.to_datetime(casos_diarios.index)
casos_diarios["Bolivia"] = casos_diarios.sum(axis=1)
casos_diarios = casos_diarios[ordenado]

# save
casos_diarios.to_csv(directory + "casos_diarios.csv")
casos_diarios


# promedio movil casos 7
casos_diarios7 = casos_diarios.rolling(7).mean()
casos_diarios7 = casos_diarios7.round(decimals=0)


# acumulados
casos_acumulados = casos_diarios.cumsum(axis=0)

# save
casos_acumulados.to_csv(directory + "casos_acumulados.csv")
casos_acumulados


color_casos = "#ffbf00"


def single_plot(i, start_day=0):
    fig, axs = plt.subplots(1, 1, figsize=(20, 8), dpi=150)

    fig.suptitle("Casos confirmados de COVID-19:\n{}".format(i), fontsize=40, y=1.0)
    fig.text(.5, .77, "última actualización: {}".format(casos_diarios.index[-1].date()), ha="center", fontsize=18)
    fig.text(0.5, -0.09, atribucion_udape, ha="center", fontsize=18)


    axs.grid(zorder=3)
    axs.bar(casos_diarios.index[start_day:], casos_diarios.loc[:,i][start_day:], 
            color=color_casos,
            label="Casos confirmados",
            width=.75,
            zorder=2)
    axs.plot(casos_diarios.index[start_day:],
             casos_diarios7.loc[:, i][start_day:],
             color="r", label="Promedio móvil semanal", zorder=3, linewidth=2.5)


    axs.annotate("Promedio\núltimo:\n" + str(casos_diarios7.loc[:, i][-1].astype(int)),
                 xy=(casos_diarios7.index[-1] + datetime.timedelta(days=10), casos_diarios7.loc[:, i][-1]),
                 fontsize=14,
                 color="r",
                 bbox={
                        'edgecolor': 'r',
                        'facecolor': fig.get_facecolor(),
                        'alpha': .9})

    axs.xaxis.set_major_formatter(mdates.DateFormatter("%m-%Y"))
    axs.legend(loc="upper left", fontsize=20)
    axs.tick_params("both", size=20, labelsize=20)

    fig.tight_layout(pad=0.5, w_pad=0.8, h_pad=2.5)


# Test
single_plot('Bolivia')
single_plot("Santa Cruz")


fig, axs = plt.subplots(10, 2, figsize=(16, 20), dpi=150, sharex=False)
axs = axs.flatten()

fig.suptitle("COVID-19 en Bolivia\nCasos Confirmados", fontsize=55, y=1.01)
fig.text(.7, .88, "última actualización: {}".format(casos_diarios.index[-1].date()), ha="center", fontsize=30, color="g", bbox={"alpha":.2})
fig.text(0.5, -0.05, atribucion_udape, ha="center", fontsize=22)



for i in range(10):
    start_day = 0
    axs[i*2].set_title(casos_diarios.columns[i] + " - desde el inicio de la pandemia")

    axs[i*2].fill_between(casos_diarios.index[start_day:], 
                          casos_diarios7[casos_diarios7.columns[i]][start_day:],
                          color = color_casos, alpha=.7,
                          label="Casos Reportados")
    axs[i*2].plot(casos_diarios.index[start_day:], casos_diarios7[casos_diarios7.columns[i]][start_day:],
                color="black", zorder=3, linewidth=1.5, label="Promedio móvil semanal")




    # green line if no cases
    no_cases_df_raw = casos_diarios[casos_diarios.iloc[:, i] == 0]
    no_cases_df = no_cases_df_raw.iloc[:, i]
    for k in range(len(no_cases_df)):
        axs[i*2].axvline(x=no_cases_df.index[k],
                         color="g",
                         lw=.3,
                         label="Sin casos reportados")
    if i == 0:
        axs[i*2].annotate("<- Sin casos reportados",
                        xy=(casos_diarios7.index[12], axs[i].get_ylim()[1]*.8,),
                        fontsize=18,
                        color="g")






    # Right side
    start_day = -60
    j = (i+1)*2-1
    axs[j].set_title((casos_diarios.columns[i]) + " - en los últimos 60 días")
    axs[j].bar(casos_diarios.index[start_day:], casos_diarios[casos_diarios.columns[i]][start_day:],
               color="#ffbf00",
               label="Última actualización: {}".format(casos_diarios.iloc[-1,i].astype(int)),
               width=.8,
               zorder=2)

    axs[j].plot(casos_diarios.index[start_day:], casos_diarios7[casos_diarios7.columns[i]][start_day:],
                color="black", zorder=3, linewidth=1.5)
    
    # annotate box
    axs[j].annotate("Ultimo\npromedio:\n" + str(casos_diarios7.iloc[-1, i].astype(int)),
                    xy=(casos_diarios7.index[-1] + datetime.timedelta(days=3), axs[j].get_ylim()[1]*.23),
                    fontsize=8,
                    ha="center",
                    color="black",
                    bbox={
                          'edgecolor': 'black',
                          'facecolor': fig.get_facecolor(),
                          'alpha': .9})
    axs[j].legend()

    # green line if no cases
    for k in range(len(no_cases_df)):
        axs[j].axvline(x=no_cases_df.index[k],
                       color="g",
                       lw=.6, alpha=.5)
    axs[j].set_xlim(casos_diarios.index[start_day], casos_diarios.index[-1] + datetime.timedelta(days=3))



    # final edits for both
    if i == 0:
        handles, labels = axs[0].get_legend_handles_labels()
        handlefix = plt.plot([1,2], [3,5], color="g")
        new_handles = handles[:2] + handlefix
        axs[0].legend(new_handles, labels[:3],
                      bbox_to_anchor = (.19,1.7), fontsize=20)
        
    axs[i*2].xaxis.set_major_formatter(mdates.DateFormatter("%b\n%Y"))
    axs[j].xaxis.set_major_formatter(mdates.DateFormatter("%b-%d"))
    axs[i*2].grid(zorder=3)
    axs[j].grid(zorder=3)

    # axs[i*2].legend(loc="upper right")
    axs[i*2].set_ylabel("Casos\nconfirmados")
    axs[j].set_ylabel("Casos\nconfirmados")

fig.tight_layout(pad=0.5, w_pad=0.8, h_pad=.5)


fig.savefig(directory + "graficas/casos_todos.jpg", bbox_inches="tight")


fig, axs = plt.subplots(5,2, figsize = (16,20), 
                        dpi=100,
                        sharey=False
                        )
axs = axs.flatten()


fig.suptitle("Casos confirmados de COVID-19 (acumulados):\nBolivia y los 9 departamentos", fontsize= 42, y=1.06)
fig.text(.5, .97, "última actualización: {}".format(casos_acumulados.index[-1].date()), ha="center", fontsize=18)
fig.text(0.5,-.03 ,atribucion_udape, ha="center", fontsize=18)


for i in range(10):
  axs[i].grid(zorder=3)
  axs[i].plot(casos_acumulados.index, casos_acumulados[casos_acumulados.columns[i]],
             color = plt.get_cmap("Blues",20)(range(10,20))[i], 
             label="Casos confirmados acumulados de COVID-19\nÚltima actualización ({}): {}".format(casos_acumulados.index[-1].date(),casos_acumulados.iloc[-1,i].astype(int)),
             linewidth = 5, 
             zorder=2)
  axs[i].set_title(casos_acumulados.columns[i], fontsize = 22)
  #axs[i].plot(casos_diarios.index, casos_diarios7[casos_diarios7.columns[i]], color = "r", label="Promedio móvil semanal",zorder=3, linewidth=4)
  #axs[i].set_facecolor(background_color2)
  axs[i].set_ylim(0,casos_acumulados[casos_acumulados.columns[i]].max()*1.20)
  axs[i].set_xlim(casos_acumulados.index[30], casos_acumulados.index[-1] + datetime.timedelta(days=10))
  axs[i].legend(loc="upper left", fontsize=14)
  axs[i].xaxis.set_major_formatter(mdates.DateFormatter("%b-%y"))

  
  axs[i].annotate( "último:\n" + str(casos_acumulados.iloc[-1,i].astype(int)),
      xy = (casos_acumulados.index[-1] - datetime.timedelta(days=120), casos_acumulados.iloc[-1,i]),
      fontsize=14,
      color = cm.get_cmap("Blues",20)(range(10,20))[i],
      bbox={
              'edgecolor': 'w',
              'facecolor': 'w', 
              'alpha': .8}
          )


fig.tight_layout(pad=0.5, w_pad=0.8, h_pad=2.5)



fig.savefig(directory + "graficas/casos_todos_acum.jpg", bbox_inches="tight")


casos_diarios7_pc = casos_diarios7 / habitantes.iloc[0,:] * 100000
casos_diarios7_pc = casos_diarios7_pc.round(1)

fig, axs = plt.subplots(2,1, figsize=(16,10), dpi=130)
axs = axs.flatten()
fig.suptitle("Casos confirmados de COVID-19 por cada 100 mil habitantes", fontsize=36, y=1.062)
fig.text(x = .5, y= .98, ha="center", s="Bolivia y los 9 departamentos. Los casos confirmados son promedios móviles semanales", 
         fontsize=21)

w = .2
p = .22
ranger = [0,1,2,3,4,5,6,7,8,9]
colors = ["royalblue", "goldenrod", "lightcoral"]

bars0 = axs[0].bar([ranger + p for ranger in ranger], casos_diarios7_pc.iloc[-1,:], color=colors[0], width=w, label = "Ultima actualización ({})".format(casos_diarios7_pc.index[-1].date()))
bars7 = axs[0].bar([ranger - 0 for ranger in ranger], casos_diarios7_pc.iloc[-7,:], color=colors[1], width=w, label = "7 días antes")
bars14 = axs[0].bar([ranger - p for ranger in ranger], casos_diarios7_pc.iloc[-14,:], color=colors[2], width=w, label = "14 días antes")
axs[0].bar_label(bars0)
axs[0].bar_label(bars7)
axs[0].bar_label(bars14)
axs[0].set_xticks(range(10))
axs[0].set_xticklabels(casos_diarios7_pc.columns)
axs[0].legend(bbox_to_anchor = (.65,-.07), fontsize=16)

limit = 653
lines = axs[1].plot(casos_diarios7_pc.index[limit:], casos_diarios7_pc.iloc[limit:,:].values, marker="*", label = casos_diarios7_pc.columns)
axs[1].axvline(casos_diarios7_pc.index[-1], color=colors[0], ls="--", lw=7)
axs[1].axvline(casos_diarios7_pc.index[-7], color=colors[1], ls="--", lw=7)
axs[1].axvline(casos_diarios7_pc.index[-14], color=colors[2], ls="--", lw=7)
axs[1].legend(loc="upper left", fontsize=14)

for j, i in enumerate(casos_diarios7_pc.columns):
    axs[1].annotate(text  = i,
                xy=(casos_diarios7_pc.index[-1]+datetime.timedelta(.2), casos_diarios7_pc[i][-1]),
                   color = lines[j].get_color(), fontsize=15)

fig.tight_layout(h_pad=2)


fig.savefig(directory + "graficas/casos_pc.jpg", bbox_inches="tight")


fuente1 = "https://github.com/mauforonda/covid19-bolivia-udape/raw/master/decesos_diarios.csv"
fuente2 = "https://github.com/sociedatos/covid19-bo-casos_por_departamento/raw/master/decesos_diarios.csv"


muertes_diarias = pd.read_csv(fuente2,
                    index_col = 0)
muertes_diarias["Bolivia"] = muertes_diarias.sum(axis=1)
muertes_diarias = muertes_diarias[['Bolivia', 'La Paz','Cochabamba','Santa Cruz', 'Oruro', 'Potosí', 'Chuquisaca','Tarija','Beni','Pando']]

muertes_diarias.to_csv(directory + "muertes_diarias.csv")
muertes_diarias.index = pd.to_datetime(muertes_diarias.index)

muertes_diarias


muertes_diarias7 = muertes_diarias.rolling(7).mean()
muertes_diarias7 = muertes_diarias7.round(decimals=1)
# muertes_diarias7.tail()


muertes_acumuladas = muertes_diarias.cumsum(axis = 0)
muertes_acumuladas.to_csv(directory + "muertes_acumuladas.csv")

muertes_acumuladas


fig, axs = plt.subplots(5,2, figsize = (16,20), dpi=140)
axs = axs.flatten()

start_day = 400


fig.suptitle("Muertes diarias de COVID-19:\nBolivia y los 9 departamentos", fontsize= 42, y=1.06)
fig.text(0.5, .97,"última actualización: {}".format(muertes_diarias.index[-1].date()), ha="center", fontsize=18)
fig.text(0.5,-.02,atribucion_udape, ha="center", fontsize=16)

for i in range(10):
    axs[i].grid(zorder=3)
    axs[i].bar(muertes_diarias.index[start_day:], muertes_diarias[muertes_diarias.columns[i]][start_day:], #color = "r", 
             label="Muertes diarias de COVID-19\nÚltima actualización ({}): {}".format(muertes_diarias.index[-1].date(),muertes_diarias.iloc[-1,i].astype(int)),
             width=.75 ,zorder=2,
             color=plt.get_cmap("Reds", 10)(range(6,7)))
    axs[i].set_title(muertes_diarias.columns[i], fontsize=22)
    axs[i].plot(muertes_diarias.index[start_day:], muertes_diarias7[muertes_diarias7.columns[i]][start_day:], color = "black", label="Promedio móvil semanal", zorder=3, linewidth=3)
    axs[i].fill_between(muertes_diarias.index[start_day:], muertes_diarias7[muertes_diarias7.columns[i]][start_day:], color = "red", zorder=1, alpha=.3)
    # axs[i].set_facecolor(background_color2)
    axs[i].set_ylim(0,muertes_diarias7[muertes_diarias7.columns[i]][start_day:].max()*1.5)
    axs[i].set_xlim(muertes_diarias.index[start_day], muertes_diarias.index[-1] + datetime.timedelta(days=30))
    axs[i].xaxis.set_major_formatter(mdates.DateFormatter("%b-%y"))


    axs[i].annotate( "Promedio\núltimo:\n" + str(muertes_diarias7.iloc[-1,i]),
      xy = (muertes_diarias7.index[-1] + datetime.timedelta(days=3), muertes_diarias7.iloc[-1,i]),
      fontsize=8,
      color = "black",
      bbox={
              'edgecolor': 'black',
              'facecolor': 'w', 
              'alpha': .9}
          )

    #if casos_diarios.iloc[:,i]==0:
    no_deaths_df= muertes_diarias[muertes_diarias.iloc[:,i]==0].iloc[:,i]
    for k in range(len(no_deaths_df)):
                 axs[i].annotate(text=".",
                     xy=(no_deaths_df.index[k], no_deaths_df[k]),
                     fontsize=30,
                     color="g",
                     label="0 muertes en este día")
    axs[i].legend()

fig.tight_layout(pad=0.3, w_pad=4, h_pad=2)


muertes_fig = fig.savefig(directory + "graficas/muertes_todos.jpg", bbox_inches="tight")


# ARCHIVADO ANTIGUO EDO

# desc_y_sosp_edu = pd.read_csv("https://raw.githubusercontent.com/pr0nstar/covid19-data/master/processed/bolivia/testing.csv",
#                     index_col = 0)
# desc_y_sosp_edu = desc_y_sosp_edu[desc_y_sosp_edu.columns].apply(pd.to_numeric, errors = "coerce")
# desc_y_sosp_edu.index = pd.to_datetime(desc_y_sosp_edu.index)

# col_names = ['La Paz', 'Cochabamba', 'Santa Cruz','Oruro','Potosí','Tarija','Chuquisaca', 'Beni','Pando']


# descartados = desc_y_sosp_edu.iloc[1:,[1,3,5,7,9,11,13,15,17]]
# for i in range(9):
#     descartados.rename(columns={descartados.columns[i] : col_names[i]}, inplace=True)
# descartados["Bolivia"] = descartados.sum(axis=1, min_count=9) #9=departamentos

# descartados.to_csv(directory + "descartados_acumulados.csv")


# # errores?
# # descartados.at["2021-09-17 00:00:00", "Santa Cruz"] = np.nan #pd.datetime(2021,9,3)
# # descartados.at["2021-07-20 00:00:00", "Potosí"] = np.nan #2021-07-20 00:00:00
# # descartados.at["2021-07-15 00:00:00", "Chuquisaca"] = np.nan #2021-07-15 00:00:00
# # descartados.at["2021-05-30 00:00:00", "Beni"] = np.nan
# # descartados.at["2021-05-30 00:00:00", "Beni"] = np.nan
# # descartados.at["2021-05-30 00:00:00", "Beni"] = np.nan
# # descartados.at["2021-05-30 00:00:00", "Beni"] = np.nan


# #if previous value is the same, make nan
# for i in ordenado:
#     descartados.loc[descartados[i].shift(-1) == descartados[i]] = np.nan

    
# ############################## No hay sospechosos desde mediados del 2021

# # sospechosos = desc_y_sosp_edu.iloc[1:,[0,2,4,6,8,10,12,14,16]]
# # #for i in range(9):
# # #    sospechosos.rename(columns={sospechosos.columns[i] : col_names[i]}, inplace=True)
# # sospechosos["Bolivia"] = sospechosos.sum(axis=1)
# # sospechosos.tail(118)
    
    
# descartados


FUENTE_NUEVA = "https://github.com/sociedatos/covid19-bo-pruebas_por_departamento/raw/master/descartados.csv"

descartados_nuevo = pd.read_csv(FUENTE_NUEVA, index_col=0)
descartados_nuevo.index = pd.to_datetime(descartados_nuevo.index)
descartados_nuevo = descartados_nuevo.rename(columns={"Potosi":"Potosí"}, errors="raise")

start_new_source = descartados_nuevo.Bolivia.dropna().index[0] # Timestamp('2022-01-21 00:00:00')
old_source_df_dates = descartados_nuevo.loc[:start_new_source,:].iloc[:-1,:].index

for i, j in enumerate(old_source_df_dates):
    descartados_nuevo.loc[j, "Bolivia"] = descartados_nuevo.loc[j,:][:-1].sum(min_count=9)
    
descartados_nuevo = descartados_nuevo.interpolate().round(0)

descartados_nuevo


pruebas_acum = casos_acumulados + descartados_nuevo
pruebas_acum = pruebas_acum.drop(pruebas_acum.index[0:58], axis=0).round(0)
pruebas_acum = pruebas_acum.interpolate()
pruebas_acum = pruebas_acum[['Bolivia', 'La Paz','Cochabamba','Santa Cruz', 'Oruro', 'Potosí', 'Chuquisaca','Tarija','Beni','Pando']]

pruebas_acum.plot(subplots=True, figsize=(4,14))



# OWID Patch - add data Add data back to March 14 2020 https://github.com/dquintani/covid/pull/1

owid_patch = pd.read_csv("other/owid_patch.csv", index_col = 0)
owid_patch.index = owid_patch.index.astype(str)
owid_patch.index = pd.to_datetime(owid_patch.index)

#old
# pruebas_acum.to_csv(directory + "pruebas_acum.csv")

#new
pruebas_acum_owid_patch = pd.concat([owid_patch, pruebas_acum])
pruebas_acum_owid_patch = pruebas_acum_owid_patch[~pruebas_acum_owid_patch.index.duplicated(keep='first')]
pruebas_acum_owid_patch.to_csv(directory + "pruebas_acum.csv")
pruebas_acum_owid_patch.Bolivia.plot(title="OWID Patch added dates from march 14 to april 2020")


pruebas_diarias = pruebas_acum.diff()
pruebas_diarias.plot(subplots=True, figsize=(14,14),
                     # ylim=(-1000,0)
                    )
# plt.ylim(0,-1000)

pruebas_diarias = pruebas_diarias[pruebas_diarias.Bolivia>0]
pruebas_diarias.tail()


pruebas_diarias.to_csv(directory + "pruebas_diarias.csv")


pruebas_diarias7 = pruebas_diarias.rolling(7,min_periods=1).mean()
pruebas_diarias7.plot(subplots=True, figsize=(14,14))


fig, axs = plt.subplots(5,2, figsize = (16,14), dpi=120)
axs = axs.flatten()

fig.suptitle("Pruebas diarias de COVID-19: Bolivia y los 9 departamentos", fontsize= 32, y=1.07)
fig.text(0.5,-.03,atribucion_SEDES_edu, fontsize=15, ha="center")
fig.text(0.5, 1.0,"última actualización: {}".format(pruebas_diarias.index[-1].date()), fontsize=24, ha="center")

for i in range(10):
    axs[i].grid(zorder=1)
    axs[i].set_title(pruebas_diarias.columns[i], fontsize = 20)
    # axs[i].bar(pruebas_diarias.index, pruebas_diarias[pruebas_diarias.columns[i]], color = "b", label="Pruebas diarias de COVID-19",width=.8,zorder=2)
    axs[i].scatter(pruebas_diarias.index, pruebas_diarias[pruebas_diarias.columns[i]], color = "b", label="Pruebas diarias de COVID-19",s=.8,zorder=2)
    axs[i].plot(pruebas_diarias.index, pruebas_diarias7[pruebas_diarias7.columns[i]], color = "#EB1677", label="Promedio móvil semanal", zorder=3, linewidth=3)
    axs[i].fill_between(pruebas_diarias.index, pruebas_diarias7[pruebas_diarias7.columns[i]], color = "b", zorder=3, alpha=.4)
    axs[i].plot(casos_diarios.index, casos_diarios7[casos_diarios7.columns[i]], color = "y", label="Casos confirmados", zorder=3, linewidth=3)
    axs[i].fill_between(casos_diarios.index, casos_diarios7[casos_diarios7.columns[i]], color = "y", zorder=3, alpha=.3)
    # axs[i].set_facecolor(background_color2)
    axs[i].set_ylim(0,pruebas_diarias7[pruebas_diarias7.columns[i]].max()*1.15)
    axs[i].legend()
    axs[i].xaxis.set_major_formatter(mdates.DateFormatter("%b-%y"))

    axs[i].annotate( "Promedio\núltimo:\n" + str(pruebas_diarias7.iloc[-1,i].astype(int)),
      xy = (pruebas_diarias7.index[-1] + datetime.timedelta(days=10), pruebas_diarias7.iloc[-1,i]),
      fontsize=8,
      color = "#EB1677",
      bbox={
              'edgecolor': "#EB1677",
              'facecolor': 'w', 
              'alpha': .9}
          )


fig.tight_layout(pad=0.4, w_pad=2, h_pad=4)

fig.savefig(directory + "graficas/pruebas_diarias.jpg", bbox_inches="tight")


#pruebas7 per capita * 10000
pruebas_pc = pruebas_diarias7.div(habitantes.iloc[0,:], axis=1)*10000
pruebas_pc.plot(subplots=False, figsize=(20,10), linewidth=4, colormap="tab20")
plt.xlim("2021-05-28", pruebas_diarias7.index[-1])
plt.title('COVID-19 en Bolivia\nPruebas de diagnostico procesadas por cada 10000 habitantes', fontsize=36)

for i in range(len(pruebas_pc.columns)):
    plt.annotate(text = pruebas_pc.columns[i],
                xy = (pruebas_diarias7.index[-1], pruebas_pc.iloc[-1,i]), fontsize=16)
plt.legend(fontsize=20)
plt.tick_params(axis='both', labelsize=20)

plt.savefig(directory + "graficas/pruebas_diarias_pc.jpg", bbox_inches="tight")


FUENTE_NUEVA = "https://github.com/sociedatos/covid19-bo-pruebas_por_departamento/raw/master/positividad.csv"
positividad_sociedatos = pd.read_csv(FUENTE_NUEVA,index_col=0)
positividad_sociedatos.plot(subplots=True, figsize=(8,14))


#POSITIVIDAD PROPIA

positividad_diaria_raw = casos_diarios / pruebas_diarias#.rolling(5).mean()


positividad_diaria_raw[positividad_diaria_raw>1] = np.nan
positividad_diaria_raw[positividad_diaria_raw<0] = np.nan


# positividad_diaria_raw = casos_diarios / pruebas_diarias#.rolling(5).mean()

positividad_diaria_raw = positividad_diaria_raw.drop(positividad_diaria_raw.index[0:59])

positividad_diaria_raw.to_csv(directory + "positividad_diaria_raw.csv")

positividad_diaria_raw.plot(subplots=True, figsize=(8,14))



positividad_diaria_adj = positividad_diaria_raw.rolling(5).mean() #,min_periods=1

positividad_diaria_adj = positividad_diaria_adj.interpolate()

positividad_diaria_adj.to_csv(directory + "positividad_diaria_ajuste.csv")

positividad_diaria_adj.plot(subplots=True, figsize=(14,14))


ax = positividad_diaria_adj.iloc[:,1:].plot(figsize = (20,8),zorder=2, linewidth=3, color= cm.get_cmap("Set1",12)(range(1,12)))
plt.plot(positividad_diaria_adj.index, positividad_diaria_adj.Bolivia, color="black", linewidth=5, label="Bolivia")

plt.grid(zorder=1)
plt.title("Positividad diaria de SARS-CoV-2 (promedio móvil de 5 días)", fontsize =36, y=1.1)

plt.text(18392,-.25,atribucion_SEDES_edu+" // Metodología y visualización de BoliGráfica", fontsize=18)
plt.text(18800, .95,"última actualización: {}".format(pruebas_diarias.index[-1].date()), fontsize=14)
plt.xticks(fontsize=16)
plt.yticks(fontsize=16)
ax.yaxis.set_major_formatter(mtick.PercentFormatter(xmax=1, decimals=0))

ax.tick_params(size=16)
ax.axhline(y = .05, color="r", linestyle="dashed", label= "recomendación OMS")
ax.legend()
plt.savefig(directory + "graficas/positividad_diaria_todos.jpg", bbox_inches="tight", dpi=120)


axs = positividad_diaria_adj.interpolate().plot(subplots=True, layout=(5,2), sharey=False, sharex=False, figsize = (15,30), linewidth = 3, 
                                                color=cm.get_cmap("Dark2",6)(range(6)))

axs[0][0].get_figure().suptitle('COVID-19: Positividad diaria en Bolivia y los 9 Departamentos\n(desde el inicio de la pandemia)', y=.93, fontsize = 22)
axs = axs.flatten()

for i in range(10):
    axs[i].set_title(positividad_diaria_adj.columns[i], fontsize = 24)
    axs[i].set_ylim(0,1)
    axs[i].set_yticks((0,0.05,.2,.4,.6,.8,1))
    axs[i].axhline(y=0.05, color='r', linestyle='dotted',label="Recomendación OMS", linewidth=3.5)
    axs[i].legend(fontsize = 14)
    axs[i].yaxis.set_major_formatter(mtick.PercentFormatter(xmax=1, decimals=0))
    axs[i].text(18720,.7, "Positividad última:\n{}%".format((positividad_diaria_adj.iloc[-1,i]*100).round(1)), ha="center",
              bbox={
              'edgecolor': "black",
              'facecolor': 'w', 
              'alpha': .5}
          )


plt.text(17800, -.2,atribucion_SEDES_edu+ " // Metodología y visualización de BoliGráfica", fontsize=14)
plt.text(18145, 5.92,"última actualización: {}".format(pruebas_diarias.index[-1].date()), fontsize=12)
plt.savefig(directory + "graficas/positividad_diaria_subplots.jpg", bbox_inches="tight", dpi=120)


fig, axs = plt.subplots(2,2, figsize = (24,10), dpi=130)
axs = axs.flatten()

fig.suptitle("COVID-19 en Bolivia: Resumen Nacional", fontsize= 37, y=1.132)
fig.text(0.5,-.065,atribucion_udape_sedes, fontsize=18, ha="center")
fig.text(.5, 1.015,"última actualización: {}".format(muertes_diarias.index[-1].date()), fontsize=24, ha="center", color="gray")

axs[0].grid(zorder=3)
axs[0].set_title("Casos confirmados de COVID-19: Bolivia", fontsize=28) 
axs[0].bar(casos_diarios.index, casos_diarios.Bolivia, color = "#ffbf00", label="Casos confirmados (último: {})".format(casos_diarios.Bolivia.iloc[-1].astype(int)),width=.8,zorder=2)
axs[0].plot(casos_diarios.index, casos_diarios7.Bolivia, color = "r", label="Promedio móvil semanal (último: {})".format(casos_diarios7.Bolivia.iloc[-1]), zorder=3, linewidth=5)
#axs[0].set_ylim(0,casos_diarios7[casos_diarios7.columns[i]].max()*1.15)
axs[0].legend(fontsize=22)
axs[0].xaxis.set_major_formatter(mdates.DateFormatter("%b-%y"))

axs[1].grid(zorder=3)
axs[1].set_title("Muertes diarias de COVID-19: Bolivia", fontsize=28) 
axs[1].bar(muertes_diarias.index, muertes_diarias.Bolivia, color = "r", label="Muertes diarias (último: {})".format(muertes_diarias.Bolivia.iloc[-1]),width=.8,zorder=2)
axs[1].plot(muertes_diarias.index, muertes_diarias7.Bolivia, color = "g", label="Promedio móvil semanal (último: {})".format(muertes_diarias7.Bolivia.iloc[-1]), zorder=3, linewidth=5)
#axs[1].set_ylim(0,muertes_diarias7[muertes_diarias7.columns[i]].max()*1.15)
axs[1].legend(fontsize=22)
axs[1].xaxis.set_major_formatter(mdates.DateFormatter("%b-%y"))

axs[2].grid(zorder=3)
axs[2].set_title("Pruebas diarias (procesadas) de COVID-19: Bolivia", fontsize=28) 
axs[2].bar(pruebas_diarias.index, pruebas_diarias.Bolivia, color = "b", label="Pruebas diarias", width=.8,zorder=2)
axs[2].plot(pruebas_diarias.index, pruebas_diarias7.Bolivia, color = "black", label="Promedio móvil semanal (último: {})".format(pruebas_diarias7.Bolivia.iloc[-1].astype(int)), zorder=3, linewidth=5)
#axs[2].set_ylim(0,pruebas_diarias7[pruebas_diarias7.columns[i]].max()*1.15)
axs[2].plot(casos_diarios.index, casos_diarios7.Bolivia, color = "y", label="Casos confirmados".format(casos_diarios7.Bolivia.iloc[-1]), zorder=3, linewidth=5)

axs[2].legend(fontsize=22)
axs[2].xaxis.set_major_formatter(mdates.DateFormatter("%b-%y"))


axs[3].grid(zorder=3)
axs[3].set_title("Positividad diaria de pruebas procesadas de COVID-19: Bolivia", fontsize=28) 
axs[3].bar(positividad_diaria_raw.index, positividad_diaria_raw.Bolivia, color = "g", label="Positividad diaria",width=.8,zorder=2)
axs[3].plot(positividad_diaria_raw.index, positividad_diaria_adj.Bolivia, color = "b", label="Promedio móvil semanal (último: {}%)".format((positividad_diaria_adj.Bolivia.iloc[-1]*100).round(1)), zorder=3, linewidth=5)
#axs[3].set_ylim(0,positividad_diaria_adj[positividad_diaria_adj.olumns[i]].max()*1.15)
axs[3].legend(fontsize=22)
axs[3].xaxis.set_major_formatter(mdates.DateFormatter("%b-%y"))

fig.tight_layout(pad=0.3, w_pad=0.5, h_pad=2)

fig.savefig(directory + "graficas/resumen_nacional.jpg", bbox_inches="tight")


def make_patch_spines_invisible(ax):
    ax.set_frame_on(True)
    ax.patch.set_visible(False)
    for sp in ax.spines.values():
        sp.set_visible(False)


fig, host = plt.subplots(figsize=(13,5), dpi=200)
fig.suptitle("COVID-19 en Bolivia:\nCasos, Muertes, Pruebas y Positividad (medias móviles semanales)", fontsize=22,y=1.03, color="mistyrose")
fig.text(.67, .85,"última actualización: {}".format(muertes_diarias.index[-1].date()), fontsize=8, ha="center", color="gray")
fig.subplots_adjust(right=0.75)
fig.set_facecolor("midnightblue")
host.set_facecolor("midnightblue")

host=host
par1 = host.twinx()
par2 = host.twinx()
par3 = host.twinx()


# Offset the right spine of par2.  The ticks and label have already been
# placed on the right by twinx above.
par2.spines["right"].set_position(("axes", 1.1))
par3.spines["right"].set_position(("axes", 1.25))

# Having been created by twinx, par2 has its frame off, so the line of its
# detached spine is invisible.  First, activate the frame but make the patch
# and spines invisible.
make_patch_spines_invisible(par2)

# Show the right spine.
par2.spines["right"].set_visible(True)
par3.spines["right"].set_visible(True)

#plot lines in their own axs
p1, = host.plot(casos_diarios.index, casos_diarios7.Bolivia, color = "yellow", label="Casos Confirmados (último: {})".format(casos_diarios7.Bolivia.iloc[-1]), zorder=3, linewidth=4)
p2, = par1.plot(muertes_diarias.index, muertes_diarias7.Bolivia, color = "r", label="Muertes (último: {})".format(muertes_diarias7.Bolivia.iloc[-1]), zorder=3, linewidth=4)
p3, = par2.plot(pruebas_diarias.index, pruebas_diarias7.Bolivia, color = "cyan", label="Pruebas (último: {})".format(pruebas_diarias7.Bolivia.iloc[-1].astype(int)), zorder=3, linewidth=2)
p4, = par3.plot(positividad_diaria_raw.index, positividad_diaria_adj.Bolivia, color = "lime", label="Positividad (último: {}%)".format((positividad_diaria_adj.Bolivia.iloc[-1]*100).round(1)), zorder=3, linewidth=2)


#x and y lims
host.set_xlim(casos_diarios.index[0], casos_diarios.index[-1])
# host.set_ylim(0, 3000)
# par1.set_ylim(0, 100)
# par2.set_ylim(1, 13000)
par3.set_ylim(0,1)

host.set_xlabel("fecha")
host.set_ylabel("Casos confirmados")
par1.set_ylabel("Muertes")
par2.set_ylabel("Pruebas")
par3.set_ylabel("Positividad")

host.yaxis.label.set_color(p1.get_color())
par1.yaxis.label.set_color(p2.get_color())
par2.yaxis.label.set_color(p3.get_color())
par3.yaxis.label.set_color(p4.get_color())


tkw = dict(size=4, width=1.5)
host.tick_params(axis='y', colors=p1.get_color(), **tkw)
par1.tick_params(axis='y', colors=p2.get_color(), **tkw)
par2.tick_params(axis='y', colors=p3.get_color(), **tkw)
par3.tick_params(axis='y', colors=p4.get_color(), **tkw)
host.tick_params(axis='x', **tkw)

host.grid(False)
par1.grid(False)
par2.grid(False)
par3.grid(False)

lines = [p1, p2, p3, p4]
host.legend(lines, [l.get_label() for l in lines], facecolor="midnightblue", labelcolor="linecolor", loc="upper center")

plt.show()
fig.savefig("graficas/resumen_nacional_normalizado.jpg", bbox_inches="tight")


activos = casos_diarios.rolling(14).sum()      #-muertes_diarias.rolling(14).sum()
activos.index = pd.to_datetime(activos.index)

activos.to_csv(directory + "activos.csv")
activos


fig, axs = plt.subplots(5,2, figsize = (12,16), dpi=200)
axs = axs.flatten()
fig.tight_layout(pad=0.3, w_pad=2, h_pad=5)

# background_color = "#d0d0d0"
# background_color2 = "w"

# fig.set_facecolor(background_color)

fig.suptitle("Casos Activos de COVID-19 en Bolivia", fontsize= 22, y=1.065)
fig.text(0.5,1.02,atribucion_udape, fontsize=11, ha="center")
fig.text(.02, 1.04,"última actualización: {}".format(muertes_diarias.index[-1].date()), fontsize=8)

start_day = 640
for i in range(10):
    axs[i].grid(zorder=3)
    axs[i].set_title(activos.columns[i], fontsize=20) 
    axs[i].bar(activos.index, activos[activos[start_day:-1].columns[i]], label="Casos activos (último): {}".format(activos.iloc[-1,i].astype(int)),
              width=.85, zorder=2, 
              color = cm.get_cmap("viridis",20)(range(0,10))[i])
    # axs[i].set_facecolor(background_color2)
    axs[i].legend(fontsize=16, loc="lower left")
    axs[i].xaxis.set_major_formatter(mdates.DateFormatter("%b"))
    axs[i].set_xlim(activos.index[start_day], activos.index[-1])
    axs[i].set_ylim(0, activos[activos[295:-1].columns[i]].max() * 1.03)

fig.savefig(directory + "graficas/activos.jpg", bbox_inches="tight")


activos_ultimo = activos[-1:]
activos_ultimo.T


activos_ultimo.index = ["Activos por cada 10,000 habitantes"]
habitantes_activos = habitantes
habitantes_activos.index = ["Activos por cada 10,000 habitantes"]
activos_ultimo_pc = activos_ultimo / habitantes_activos * 10000
activos_ultimo_pc.T



fig, axs = plt.subplots(2,1, figsize=(14,8))

fig.text(.5, 1,"última actualización: {}".format(muertes_diarias.index[-1].date()), fontsize=14, ha="center", bbox={"alpha":0.5})
fig.text(0.5,-.073,atribucion_udape, 
         fontsize=19, ha="center")

bar1 = axs[0].bar(activos_ultimo.T.index[1:10], activos_ultimo.T[1:10][activos_ultimo.T.columns[0]], color = cm.get_cmap("viridis",10)(range(10)))
axs[0].set_title("Total de Casos Activos de COVID-19", fontsize = 20)
axs[0].set_ylim(0,activos_ultimo.T[1:10][activos_ultimo.T.columns[0]].max()*1.2)
axs[0].bar_label(bar1, fontsize=14,
                 bbox={
                     "alpha":0.5
                 })
axs[0].grid(axis="both")


bar2 = axs[1].bar(activos_ultimo_pc.T.index[1:10], (activos_ultimo_pc.T[1:10]["Activos por cada 10,000 habitantes"]*10).astype(int), color = cm.get_cmap("viridis",10)(range(10)))
axs[1].set_title("Tasa de Casos Activos de COVID-19 por cada 100,000 habitantes", fontsize = 20)
axs[1].bar_label(bar2, fontsize=14,
                 bbox={
                     "alpha":0.5
                 })
axs[1].grid(axis="both")
axs[1].set_ylim(0,activos_ultimo_pc.T[1:10][activos_ultimo_pc.T.columns[0]].max()*12)


fig.tight_layout(pad=3)

fig.savefig(directory + "graficas/activos_pc.jpg", bbox_inches = "tight")



def plotter(region, start=0, end = -1, multiplier  = -50, bar_label=False):
    
    casos = casos_diarios.loc[:,region]
    muertes = muertes_diarias.loc[:,region]

    fig, axs = plt.subplots(1,1,figsize=(20,5), dpi=50)
    fig.suptitle("COVID-19 en {}: Casos y Muertes\n(Fuente: UDAPE)".format(region), fontsize=20, y =1.01)


    barc = axs.bar(casos.index, casos, color="cyan")   
    barm = axs.bar(muertes.index, muertes * multiplier, color="r")
    axs.plot(casos.index, casos.rolling(7).mean(), color="r")
    axs.plot(muertes.index, muertes.rolling(7).mean() * multiplier , color="cyan")

    axs.set_xlim(xmin=casos.index[start], xmax=casos.index[-1])
    # axs.set_ylim(muertes[start:].max()*-1.1, casos[start:].max()*1.2)
    axs.set_xlabel("fecha", fontsize=16)
    axs.set_yticks([casos.max()*1,
                    casos.max()*.66,
                    casos.max()*.33,
                    0,
                    muertes.max()*.33 * multiplier,
                    muertes.max()*.66 * multiplier,
                    muertes.max()* 1 * multiplier
                   ])
    axs.set_yticklabels([
                    int(casos.max()*1),
                    int(casos.max()*.66),
                    int(casos.max()*.33),
                    (0),
                    int(muertes.max()*.33),
                    int(muertes.max()*.66),
                    int(muertes.max()* 1)
                   ],
        fontsize=16
        )
    plt.xticks(fontsize=14)

    if bar_label==True:
        axs.bar_label(barc)
        axs.bar_label(barm)



    axs.annotate("Casos",
                xy=(casos.index[start], casos.max()*.35),
                fontsize=20,
                color="cyan",
                rotation=90)
    axs.annotate("Muertes",
                xy=(muertes.index[start], muertes.max()*.65*multiplier),
                fontsize=20,
                color="r",
                rotation=90)

###############################################################################################
###############################################################################################
###############################################################################################


   
# for i in casos_diarios.columns:
#     plotter(i)
    
plotter("Santa Cruz")


scz = casos_diarios["Santa Cruz"]
scz.index = pd.to_datetime(scz.index)

fig, axs = plt.subplots(2,2,figsize=(15,10), dpi=80)
axs= axs.flatten()

fig.suptitle("Casos confirmados en Santa Cruz:\n4 perspectivas hasta el {}".format(scz.index[-1].date()), fontsize=35, y=1.03)
axs[0].set_title('Desde el principio de la pandemia')
axs[0].bar(scz.index, scz)
axs[0].plot(scz.index, scz.rolling(7).mean(), color='purple')

axs[1].set_title('Desde hace un año')
lim2= -365
axs[1].bar(scz.index[lim2:], scz[lim2:])
axs[1].plot(scz.index[lim2:], scz.rolling(7).mean()[lim2:], color='purple')

axs[2].set_title('Desde hace tres meses')
lim3= -90
axs[2].bar(scz.index[lim3:], scz[lim3:])
axs[2].plot(scz.index[lim3:], scz.rolling(7).mean()[lim3:], color='purple')

axs[3].set_title('Desde hace 15 días')
lim4= -15
axs[3].bar(scz.index[lim4:], scz[lim4:])
axs[3].plot(scz.index[lim4:], scz.rolling(7).mean()[lim4:], color='purple')

for i in range(4):
    axs[i].tick_params("x",rotation=40)
    
fig.tight_layout()


fig.savefig("graficas/Santa_cruz_comparacion_casos_grid.jpg", bbox_inches="tight")


# s = "La tasa de letalidad es una métrica epidemiológica con dos variables: casos confirmados y muertes registradas.\n"+
# "Los casos y las muertes NO deben ser del mismo periodo ya que -en el caso del COVID-19- existe un periodo de 8-12 días\n"+
# "entre el dia de la confirmación del caso positivo (día de registro) y la muerte registrada.\n"+
# "\nLa única tasa de letalidad que sirve es la linea morada - que mide las muertes registradas del día (promedio móvil semanal)\n"+
# "entre los casos confirmados de 10 días ANTES (promedio móvil semanal). "


def letalidad_plot1(xmin = None, ymax=None):
    plt.figure(figsize= (12,4))

    let_acum = muertes_acumuladas / casos_acumulados *100
    let_acum.Bolivia.plot(subplots=True,  label="Letalidad acumulada = muertes_acum / casos_acum", color="r")

    let_mes = muertes_diarias.resample("M").sum() / casos_diarios.resample("M").sum() *100
    let_mes.Bolivia.plot(subplots=True,  label="Letalidad mensual = muertes_mes / casos_mes", color="g", marker="o")

    let_semanal = muertes_diarias.resample("W").sum() / casos_diarios.resample("W").sum() *100
    let_semanal.Bolivia.plot(subplots=True,  label="Letalidad semanal = muertes_semana / casos_semana", color="black", marker="o")

    let_dia = muertes_diarias7 / casos_diarios7 * 100
    let_dia.Bolivia.plot(subplots=True,  label="Letalidad diaria = muertes7 / casos7")

    shifted_days = 10
    let_shifted = muertes_diarias7 / casos_diarios7.shift(1 * shifted_days) * 100
    let_shifted.Bolivia.plot(subplots=True, zorder=5, label="Letalidad Shift = muertes7 / casos7.shift(10)", color="m", linewidth=4, ls="-")

    plt.xlim(xmin,casos_diarios7.index[-1])
    plt.ylim(0,ymax)
    plt.title("Diferentes tasas de letalidad del COVID-19 en BOlivia\nLa morada es la única que sirve")
    plt.legend()
    return plt
    # plt.text(x = casos_diarios7.index[320],y=-30, ha="center",
    #          s = "La tasa de letalidad es una métrica epidemiológica con dos variables: casos confirmados y muertes registradas.\n"+
    #          "Los casos y las muertes NO deben ser del mismo periodo ya que -en el caso del COVID-19- existe un periodo de 8-12 días\n"+
    #          "entre el dia de la confirmación del caso positivo (día de registro) y la muerte registrada.\n"+
    #          "\nLa única tasa de letalidad que sirve es la linea morada - que mide las muertes registradas del día (promedio móvil semanal)\n"+
    #          "entre los casos confirmados de 10 días ANTES (promedio móvil semanal). ")
#------------------------------------------------------------------

letalidad_plot1(xmin = None, ymax=None)    
# letalidad_plot1(xmin = None, ymax=20)    

# letalidad_plot1(xmin = "2021-01-10", ymax=5)
letalidad_plot1(xmin = "2021-09-10", ymax=4)


letalidad_saved = letalidad_plot1(xmin = "2021-01-10", ymax=5)
letalidad_saved.savefig("graficas/letalidad_overlay.jpg", bbox_inches="tight")

plt.close()


exceso_edu = pd.read_csv("https://raw.githubusercontent.com/sociedatos/bo-mortalidad/main/registro.civil.csv", index_col=0)
exceso_edu.index = pd.to_datetime(exceso_edu.index, format="%Y-%m")
exceso_edu["Bolivia"] = exceso_edu.sum(axis=1)
exceso_edu


fig, axs = plt.subplots(1,1, figsize=(12,4))
fig. suptitle("Muertes mensuales en Bolivia \n lo que está arriba de lo rojo es el exceso", fontsize=20, y=1.1)

axs.plot(exceso_edu[exceso_edu.index.year ==2019].index.month, exceso_edu[exceso_edu.index.year ==2019].Bolivia, label="año base: 2019", color="r")
axs.fill_between(exceso_edu[exceso_edu.index.year ==2019].index.month, exceso_edu[exceso_edu.index.year ==2019].Bolivia, alpha=.3, color="r")

pad = .17
width = .3
bar1 = axs.bar(exceso_edu[exceso_edu.index.year ==2020].index.month-pad, exceso_edu[exceso_edu.index.year ==2020].Bolivia, width = width, label="2020", color="g")
bar2 = axs.bar(exceso_edu[exceso_edu.index.year ==2021].index.month+pad, exceso_edu[exceso_edu.index.year ==2021].Bolivia, width = width, label="2021", color="b")

axs.bar_label(bar1)
axs.bar_label(bar2)
axs.set_xticks([1,2,3,4,5,6,7,8,9,10,11,12])
axs.set_xticklabels(["Enero","Febrero", "Marzo", "Abril", "Mayo", "Junio", "Julio", "Agosto", "Septiembre", "Octubre", "Noviembre", "Diciembre"])

axs.legend()


fig.savefig("graficas/exceso_bolivia1.jpg", bbox_inches="tight")


hosp_df = pd.read_csv("https://github.com/sociedatos/bo-hospitalizados_por_departamento/raw/master/hospitalizados_por_departamento.csv", index_col=0, header=[0,1,2])
hosp_df.index = pd.to_datetime(hosp_df.index)

hosp_df


dept_list = list(hosp_df.columns.levels[0])
dept_list2 = ["Beni", "Chuquisaca", "Cochabamba", "La Paz", "Oruro", "Pando", "Potosí", "Santa Cruz", "Tarija"]
hosp_df = hosp_df.rename(columns=dict(zip(dept_list,dept_list2)))
dept_list = dept_list2

STATUS = ['internacion', 'uti', 'uci']
STATUS2 = ['Internación', '        UTI', '        UCI']
STATUS3 = ['Internación', 'UTI', 'UCI']

df_intern = pd.DataFrame([])
df_uti = pd.DataFrame([])
df_uci = pd.DataFrame([])

for i in range(len(dept_list)):
    df_intern[dept_list2[i]] = hosp_df[dept_list2[i]].hospitalizados.internacion
    df_uti[dept_list2[i]] = hosp_df[dept_list2[i]].hospitalizados.uti
    df_uci[dept_list2[i]] = hosp_df[dept_list2[i]].hospitalizados.uci

df_intern["Bolivia"] = df_intern.sum(axis=1)
df_uti["Bolivia"] = df_uti.sum(axis=1)
df_uci["Bolivia"] = df_uci.sum(axis=1)

#example
df_intern = df_intern[ordenado]
df_uti = df_uti[ordenado]
df_uci = df_uci[ordenado]


fig, axs = plt.subplots(3,9, figsize=(20,7), sharey=True, sharex=True,
                       dpi=200
                       )
fig.suptitle('HOSPITALIZADOS CON COVID-19\n Ocupación hospitalaria dedicada al COVID-19 en Bolivia', fontsize=40, y=1.04)
fig.set_facecolor("moccasin")

colors = ['r', 'g','b']

for i in range(len(STATUS)):
    axs[i,0].text(s =STATUS2[i],
                      x=hosp_df.index[0]-datetime.timedelta(550), y=.42, fontsize=36, color=colors[i])


    for j in range(len(dept_list)):
        axs[0,j].set_title(dept_list2[j], fontsize=19)
        
        x = hosp_df.index
        y = hosp_df[dept_list[j]].hospitalizados[STATUS[i]] / hosp_df[dept_list[j]].camas_habilitadas[STATUS[i]]
        axs[i,j].plot(x, y, color=colors[i], label=STATUS3[i])
        axs[i,j].fill_between(x, y, color=colors[i], alpha=.6)
        axs[i,j].fill_between(x, 1, y, color="gainsboro")
        
        # print(dept_list2[j])
        # print(STATUS3[i])
        # display(y[-1])
        
        #FIX APRIL 2 2022
        try:
            axs[i,j].axhline(y[-1], color="m", linestyle="--", label="Último: {}".format(str(int(y[-1]*100))+"%"))
        except:
            print("na found")
            # axs[i,j].set_title(dept_list[j] + "\n" + STATUS[i])

#all axs
axs = axs.flatten()
for i in range(27):
    axs[i].grid(linestyle="--", color="gray")
    axs[i].set_ylim(0,1)
    axs[i].set_yticks([0,.25,.5,.75,1])
    axs[i].set_yticklabels(["0%","25%","50%","75%", "100%"], fontsize=18)
    axs[i].tick_params("x", rotation=45)
    axs[i].set_xlim(hosp_df.index[0], hosp_df.index[-1])
    axs[i].xaxis.set_major_locator(mdates.MonthLocator(interval=2))
    axs[i].xaxis.set_major_formatter(mdates.DateFormatter('%b'))
    axs[i].legend(framealpha=.82, loc="upper left")

fig.text(x=.06, y=.82, s='Ocupación\n(%) en...', color="gray", fontsize=36, ha="center")
fig.text(x=.5, y=-.12, 
         s='Última actualización: {}\nFuente: SNIS-VE vía sociedatos; Visualización de BoliGráfica'.format(hosp_df.index[-1].date()), 
         color="gray", fontsize=28, ha="center")

fig.tight_layout(h_pad = .3, w_pad=.5)


fig.savefig("graficas/ocupacion_hosp_detallado.jpg", bbox_inches="tight")


fig, axs = plt.subplots(1,1, figsize=(13,6), dpi=150)
fig.suptitle("Hospitalizados con prueba (+) de COVID-19\nBolivia", fontsize=36, y=1.05, x=.56, color="gray")
fig.text(x=.5, y=-.0, 
         s='Última actualización: {} // Fuente: SNIS-VE vía sociedatos\nVisualización de BoliGráfica'.format(hosp_df.index[-1].date()), 
         color="gray", fontsize=16, ha="center")

colors = ["r","g","b"]
axs.plot(df_uci.index, df_uci.Bolivia+df_uti.Bolivia+df_intern.Bolivia, label="UCI", color="r")
axs.fill_between(df_uci.index, df_uci.Bolivia+df_uti.Bolivia+df_intern.Bolivia, alpha=.5, color="r")

axs.plot(df_uti.index, df_uti.Bolivia+df_intern.Bolivia, label="UTI", color="g")
axs.fill_between(df_uti.index, df_uti.Bolivia+df_intern.Bolivia, alpha=.5, color="g")

axs.plot(df_intern.index, df_intern.Bolivia, label="Internación", color="b")
axs.fill_between(df_intern.index, df_intern.Bolivia, alpha=.5, color="b")

axs.annotate(text="{} actualmente en internación".format(df_intern.Bolivia[-1]), 
             xy=(df_intern.index[-1]+datetime.timedelta(3), df_intern.Bolivia[-1]/2), 
             bbox={"alpha":.35,"color":"b"})
axs.annotate(text="{} actualmente en UTI".format(df_uti.Bolivia[-1]), 
             xy=(df_uti.index[-1]+datetime.timedelta(3), df_uti.Bolivia[-1]/2+df_intern.Bolivia[-1]), 
             bbox={"alpha":.35,"color":"g"})
axs.annotate(text="{} actualmente en UCI".format(df_uci.Bolivia[-1]), 
             xy=(df_uci.index[-1]+datetime.timedelta(3), df_uci.Bolivia[-1]/2+df_uti.Bolivia[-1]+df_intern.Bolivia[-1]), 
             bbox={"alpha":.35,"color":"r"})

axs.legend(fontsize=20, loc="upper center")


fig.savefig("graficas/hospitalizado_solobol.jpg", bbox_inches="tight")


fig, axs = plt.subplots(5,2, figsize=(14,14), dpi=150)
axs = axs.flatten()
fig.suptitle("Hospitalizados con prueba positiva (+)\n de COVID-19 en Bolivia", fontsize=50, y=1.03, color="gray")

for i in range(10):
    axs[i].set_title(df_intern.columns[i])
    axs[i].stackplot(df_intern.index, df_intern.iloc[:,i], df_uti.iloc[:,i], df_uci.iloc[:,i], alpha=.8,colors=["b","g","r"])
    axs[i].legend([
        "Internación (Actual: {})".format(df_intern.iloc[-1,i]), 
        "UTI (Actual: {})".format(df_uti.iloc[-1,i]),
        "UCI (Actual: {})".format(df_uci.iloc[-1,i])],
        fontsize=13, loc="upper center")
fig.text(x=.5, y=-.06, 
         s='Última actualización: {}\nFuente: SNIS-VE vía Sociedatos; Visualización de BoliGráfica'.format(hosp_df.index[-1].date()), 
         color="gray", fontsize=28, ha="center")
fig.tight_layout()


fig.savefig("graficas/hospitalizados_stack.jpg", bbox_inches="tight")


# IDK WHY THERE IS A DOUBLE HERE!

# fig, axs = plt.subplots(5,2, figsize=(14,14), dpi=150)
# axs = axs.flatten()
# fig.suptitle("Hospitalizados con prueba positiva (+)\n de COVID-19 en Bolivia", fontsize=50, y=1.03, color="gray")

# for i in range(10):
#     axs[i].set_title(df_intern.columns[i])
#     axs[i].stackplot(df_intern.index, df_intern.iloc[:,i], df_uti.iloc[:,i], df_uci.iloc[:,i], alpha=.8)
#     axs[i].legend([
#         "Internación (Actual: {})".format(df_intern.iloc[-1,i]), 
#         "UTI (Actual: {})".format(df_uti.iloc[-1,i]),
#         "UCI (Actual: {})".format(df_uci.iloc[-1,i])],
#         fontsize=13, loc="upper center")
# fig.text(x=.5, y=-.06, 
#          s='Última actualización: {}\nDatos del SNIS-VE vía Sociedatos; Visualización de BoliGráfica'.format(hosp_df.index[-1].date()), 
#          color="gray", fontsize=28, ha="center")
# fig.tight_layout()


fig, axs = plt.subplots(5,2, figsize=(14,14), dpi=150)
axs = axs.flatten()
fig.suptitle("COVID-19 en Bolivia:\nComparando Casos, Muertes e Internaciones", fontsize=50, y=1, color="gray")

maxcasos3ra_casos = casos_diarios7.loc[datetime.date(2021,3,5):datetime.date(2021,8,5), :].max()
maxcasos3ra_muertes = muertes_diarias7.loc[datetime.date(2021,3,5):datetime.date(2021,8,5), :].max()
maxcasos3ra_intern = df_intern.loc[datetime.date(2021,3,5):datetime.date(2021,8,5), :].max()

for i, j in enumerate(ordenado):
    axs[i].set_title(j)
    axs[i].plot(casos_diarios7[j].div(maxcasos3ra_casos[j])*100)
    axs[i].plot(muertes_diarias7[j].div(maxcasos3ra_muertes[j]).shift(-10)*100, color="g")
    axs[i].plot(df_intern[j].div(maxcasos3ra_intern[j]).shift(-5)*100, color="r")
    axs[i].legend(["Casos","Muertes (-10 días)","Internaciones (-5 días)"])
    axs[0].annotate(text="Pico 3ra\nola = 100%", xy=(datetime.date(2021,4,22),120))
    axs[i].axhline(100, color="gray", lw=1, ls=":")
    axs[i].yaxis.set_major_formatter(mtick.PercentFormatter())
    
fig.tight_layout()
# fig.savefig()


fig.savefig("graficas/casos_muertes_normalizado_dept.jpg", bbox_inches="tight")



